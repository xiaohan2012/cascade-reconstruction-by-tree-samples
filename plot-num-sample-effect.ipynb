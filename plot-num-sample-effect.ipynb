{
 "cells": [
  {
   "cell_type": "code",
   "execution_count": 1,
   "metadata": {},
   "outputs": [],
   "source": [
    "%matplotlib inline"
   ]
  },
  {
   "cell_type": "code",
   "execution_count": 11,
   "metadata": {},
   "outputs": [],
   "source": [
    "import pickle as pkl\n",
    "import os"
   ]
  },
  {
   "cell_type": "code",
   "execution_count": 43,
   "metadata": {},
   "outputs": [],
   "source": [
    "# graphs = ['lattice-1024', 'infectious', 'grqc']\n",
    "graph = 'lattice-1024'\n",
    "model = 'si'\n",
    "obs_fraction = 0.5\n",
    "cascade_fraction = 0.2\n",
    "n_samples = [1250, 2500, 5000]"
   ]
  },
  {
   "cell_type": "code",
   "execution_count": 44,
   "metadata": {},
   "outputs": [],
   "source": [
    "dataset_id = '{}-m{}-s{}-o{}-omuniform.pkl'.format(graph, model, cascade_fraction, obs_fraction)"
   ]
  },
  {
   "cell_type": "code",
   "execution_count": 45,
   "metadata": {},
   "outputs": [
    {
     "data": {
      "text/plain": [
       "[0.9395579961213159, 0.9407139449452349, 0.9409114294262446]"
      ]
     },
     "execution_count": 45,
     "metadata": {},
     "output_type": "execute_result"
    }
   ],
   "source": [
    "paths = ['eval/our-n-samples-{}/'.format(n_sample) for n_sample in n_samples]\n",
    "key = 'mean'\n",
    "[pkl.load(open(os.path.join(path, dataset_id), 'rb'))[key] for path in paths]"
   ]
  }
 ],
 "metadata": {
  "kernelspec": {
   "display_name": "Python 3",
   "language": "python",
   "name": "python3"
  },
  "language_info": {
   "codemirror_mode": {
    "name": "ipython",
    "version": 3
   },
   "file_extension": ".py",
   "mimetype": "text/x-python",
   "name": "python",
   "nbconvert_exporter": "python",
   "pygments_lexer": "ipython3",
   "version": "3.5.2"
  }
 },
 "nbformat": 4,
 "nbformat_minor": 2
}
