{
 "cells": [
  {
   "cell_type": "code",
   "execution_count": 107,
   "metadata": {},
   "outputs": [],
   "source": [
    "import pickle as pkl\n",
    "import os\n",
    "import numpy as np\n",
    "\n",
    "from graph_tool import load_graph\n",
    "from graph_helpers import extract_edges\n",
    "from random_steiner_tree.util import from_gt\n",
    "\n",
    "from sample_pool import TreeSamplePool\n",
    "from root_sampler import get_root_sampler_by_name\n",
    "from sklearn.metrics import average_precision_score\n",
    "\n",
    "from inf_helpers import infer_edge_frequency\n",
    "from eval_helpers import eval_edge_map"
   ]
  },
  {
   "cell_type": "code",
   "execution_count": 78,
   "metadata": {},
   "outputs": [],
   "source": [
    "g = load_graph('data/lattice-1024/graph_weighted_0.1.gt')"
   ]
  },
  {
   "cell_type": "code",
   "execution_count": 104,
   "metadata": {},
   "outputs": [],
   "source": [
    "def one_run_for_edge(g, edge_weights, input_path, output_dir, method='our',\n",
    "                     **kwargs):\n",
    "    basename = os.path.basename(input_path)\n",
    "    output_path = os.path.join(output_dir, basename)\n",
    "\n",
    "    if os.path.exists(output_path):\n",
    "        # print(output_path, 'procssed, skip')\n",
    "        return\n",
    "\n",
    "    obs, c, _ = pkl.load(open(input_path, 'rb'))\n",
    "\n",
    "    nlog_edge_weights = g.new_edge_property('float')\n",
    "    nlog_edge_weights.a = -np.log(edge_weights.a)\n",
    "\n",
    "    if method == 'our':\n",
    "        root_sampler_name = kwargs.get('root_sampler_name')\n",
    "        root_sampler = get_root_sampler_by_name(root_sampler_name, g=g, obs=obs, c=c,\n",
    "                                                weights=nlog_edge_weights)\n",
    "        n_samples = kwargs.get('n_sample', 1000)\n",
    "        edge_freq = infer_edge_frequency(\n",
    "            g, edge_weights=edge_weights, obs=obs,\n",
    "            root_sampler=root_sampler,\n",
    "            n_samples=n_samples,\n",
    "            log=False)\n",
    "    elif method == 'min-steiner-tree':\n",
    "        from minimum_steiner_tree import min_steiner_tree\n",
    "        edges = min_steiner_tree(g, obs,\n",
    "                                 p=nlog_edge_weights,\n",
    "                                 return_type='edges')\n",
    "\n",
    "        # make it a binary vector\n",
    "        edge_freq = {e: 1 for e in edges}\n",
    "    else:\n",
    "        raise ValueError('unsupported method')\n",
    "\n",
    "    pkl.dump({'edge_freq': edge_freq},\n",
    "              open(output_path, 'wb'))"
   ]
  },
  {
   "cell_type": "code",
   "execution_count": 106,
   "metadata": {},
   "outputs": [],
   "source": [
    "one_run_for_edge(g, edge_weights,\n",
    "                 'cascade-with-edges/lattice-1024-mic-s0.1-o0.5-omuniform/0.pkl',\n",
    "                 'output-edges/min-steiner-tree/lattice-1024-mic-s0.1-o0.5-omuniform/',\n",
    "                  method='min-steiner-tree')"
   ]
  },
  {
   "cell_type": "code",
   "execution_count": 111,
   "metadata": {},
   "outputs": [
    {
     "name": "stderr",
     "output_type": "stream",
     "text": [
      "100%|██████████| 100/100 [00:01<00:00, 65.82it/s]\n"
     ]
    },
    {
     "data": {
      "text/plain": [
       "[0.18560863142765888]"
      ]
     },
     "execution_count": 111,
     "metadata": {},
     "output_type": "execute_result"
    }
   ],
   "source": [
    "eval_edge_map(g,\n",
    "              'cascade-with-edges/lattice-1024-mic-s0.1-o0.5-omuniform/',\n",
    "              'output-edges/min-steiner-tree/lattice-1024-mic-s0.1-o0.5-omuniform/')"
   ]
  },
  {
   "cell_type": "code",
   "execution_count": 79,
   "metadata": {},
   "outputs": [],
   "source": [
    "cascade_path = 'cascade-with-edges/lattice-1024-mic-s0.1-o0.5-omuniform/0.pkl'\n",
    "obs, c, tree_edges = pkl.load(open(cascade_path, 'rb'))"
   ]
  },
  {
   "cell_type": "code",
   "execution_count": 80,
   "metadata": {},
   "outputs": [],
   "source": [
    "edge_weights = g.edge_properties['weights']"
   ]
  },
  {
   "cell_type": "code",
   "execution_count": 81,
   "metadata": {},
   "outputs": [],
   "source": [
    "edge_freq = infer_edge_frequency(g, edge_weights, obs, n_samples=2000)"
   ]
  },
  {
   "cell_type": "code",
   "execution_count": 82,
   "metadata": {},
   "outputs": [
    {
     "data": {
      "text/plain": [
       "0.5395074746964879"
      ]
     },
     "execution_count": 82,
     "metadata": {},
     "output_type": "execute_result"
    }
   ],
   "source": [
    "evaluate_edge_prediction(g, tree_edges, edge_freq, average_precision_score)"
   ]
  }
 ],
 "metadata": {
  "kernelspec": {
   "display_name": "Python 3",
   "language": "python",
   "name": "python3"
  },
  "language_info": {
   "codemirror_mode": {
    "name": "ipython",
    "version": 3
   },
   "file_extension": ".py",
   "mimetype": "text/x-python",
   "name": "python",
   "nbconvert_exporter": "python",
   "pygments_lexer": "ipython3",
   "version": "3.5.2"
  }
 },
 "nbformat": 4,
 "nbformat_minor": 2
}
