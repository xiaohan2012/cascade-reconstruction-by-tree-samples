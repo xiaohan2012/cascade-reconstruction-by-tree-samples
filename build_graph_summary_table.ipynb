{
 "cells": [
  {
   "cell_type": "code",
   "execution_count": 10,
   "metadata": {},
   "outputs": [],
   "source": [
    "import pandas as pd\n",
    "\n",
    "from graph_tool import load_graph\n",
    "from graph_tool.all import assortativity"
   ]
  },
  {
   "cell_type": "code",
   "execution_count": 4,
   "metadata": {},
   "outputs": [],
   "source": [
    "graphs = ['infectious', 'email-univ', 'student', 'grqc', 'digg']"
   ]
  },
  {
   "cell_type": "code",
   "execution_count": 5,
   "metadata": {},
   "outputs": [],
   "source": [
    "def get_summary(graph_name):\n",
    "    g = load_graph('data/{}/graph.gt'.format(graph_name))\n",
    "    return (graph_name, g.num_vertices(), g.num_edges(), assortativity(g, 'total')[0])"
   ]
  },
  {
   "cell_type": "code",
   "execution_count": 11,
   "metadata": {},
   "outputs": [],
   "source": [
    "data = [get_summary(gn) for gn in graphs]"
   ]
  },
  {
   "cell_type": "code",
   "execution_count": 21,
   "metadata": {},
   "outputs": [],
   "source": [
    "columns = ['name', '$|V|$', '$|E|$', 'assortativity']"
   ]
  },
  {
   "cell_type": "code",
   "execution_count": 23,
   "metadata": {},
   "outputs": [],
   "source": [
    "df = pd.DataFrame(data, columns=columns)"
   ]
  },
  {
   "cell_type": "code",
   "execution_count": 34,
   "metadata": {},
   "outputs": [],
   "source": [
    "def formatter(x):\n",
    "    if type(x) == 'float':\n",
    "        return '%{.3f}'.format(x)\n",
    "    else:\n",
    "        return x"
   ]
  },
  {
   "cell_type": "code",
   "execution_count": 36,
   "metadata": {},
   "outputs": [
    {
     "name": "stdout",
     "output_type": "stream",
     "text": [
      "\\begin{tabular}{lrrr}\n",
      "\\toprule\n",
      "       name &   \\$|V|\\$ &    \\$|E|\\$ &  assortativity \\\\\n",
      "\\midrule\n",
      " infectious &     410 &     2765 &       0.012121 \\\\\n",
      " email-univ &    1133 &     5451 &      -0.000717 \\\\\n",
      "    student &    1266 &     6451 &      -0.003932 \\\\\n",
      "       grqc &    4158 &    13428 &       0.164106 \\\\\n",
      "       digg &  279631 &  1548131 &       0.001509 \\\\\n",
      "\\bottomrule\n",
      "\\end{tabular}\n",
      "\n"
     ]
    }
   ],
   "source": [
    "print(df.to_latex(index=None))"
   ]
  }
 ],
 "metadata": {
  "kernelspec": {
   "display_name": "Python 3",
   "language": "python",
   "name": "python3"
  },
  "language_info": {
   "codemirror_mode": {
    "name": "ipython",
    "version": 3
   },
   "file_extension": ".py",
   "mimetype": "text/x-python",
   "name": "python",
   "nbconvert_exporter": "python",
   "pygments_lexer": "ipython3",
   "version": "3.5.2"
  }
 },
 "nbformat": 4,
 "nbformat_minor": 2
}
