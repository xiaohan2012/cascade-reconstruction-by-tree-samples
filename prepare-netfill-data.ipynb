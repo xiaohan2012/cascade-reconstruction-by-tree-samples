{
 "cells": [
  {
   "cell_type": "code",
   "execution_count": 31,
   "metadata": {},
   "outputs": [],
   "source": [
    "import numpy as np\n",
    "import pickle as pkl\n",
    "import os\n",
    "\n",
    "from graph_tool import load_graph\n",
    "from graph_tool.generation import lattice\n",
    "from graph_tool.spectral import adjacency\n",
    "from graph_tool import load_graph\n",
    "\n",
    "from scipy.io import savemat\n",
    "from glob import glob\n",
    "from tqdm import tqdm\n",
    "\n",
    "from itertools import product\n",
    "\n",
    "from cascade_generator import si, observe_cascade\n",
    "from helpers import infected_nodes, cascade_source, prepare_cascade_for_netfill\n"
   ]
  },
  {
   "cell_type": "code",
   "execution_count": 58,
   "metadata": {},
   "outputs": [],
   "source": [
    "# graph_names = ['infectious', 'lattice-1024']\n",
    "# graph_names = ['digg']\n",
    "graph_names = ['infectious', 'lattice-1024', 'fb-messages', 'email-univ', 'grqc']\n",
    "use_sparse = True\n",
    "is_real_cascade = False\n",
    "\n",
    "infection_proba = 0.1\n",
    "\n",
    "# obs_fractions = np.linspace(0.5, 0.9, 5)\n",
    "# cascade_fracions = [0.1]\n",
    "\n",
    "cascade_models = ['si', 'ic']\n",
    "obs_fractions = [0.5]\n",
    "cascade_fracions = np.linspace(0.1, 0.5, 5)"
   ]
  },
  {
   "cell_type": "code",
   "execution_count": 59,
   "metadata": {},
   "outputs": [],
   "source": [
    "def do(graph_name, cascade_model, obs_fraction, cascade_fracion):\n",
    "    obs_fraction = '{:.1f}'.format(obs_fraction)\n",
    "    cascade_fracion = '{:.1f}'.format(cascade_fracion)\n",
    "    print(graph_name, cascade_model, obs_fraction, cascade_fracion)\n",
    "    try:\n",
    "        g = load_graph('data/{}/graph_weighted_ud_{}.gt'.format(graph_name, infection_proba))\n",
    "    except IOError:\n",
    "        g = load_graph('data/{}/graph.gt'.format(graph_name))\n",
    "        \n",
    "    if not is_real_cascade:\n",
    "        input_dir = 'cascade/{}-m{}-s{}-o{}-omuniform/'.format(\n",
    "            graph_name, cascade_model, cascade_fracion, obs_fraction)\n",
    "        output_dir = 'netfill-data/cascade/{}-m{}-s{}-o{}-omuniform/'.format(\n",
    "            graph_name, cascade_model, cascade_fracion, obs_fraction)\n",
    "    else:\n",
    "        input_dir = 'cascade/{}-o{}-omuniform/'.format(\n",
    "            graph_name, obs_fraction)\n",
    "        output_dir = 'netfill-data/cascade/{}-o{}-omuniform/'.format(\n",
    "            graph_name, obs_fraction)\n",
    "    \n",
    "    if cascade_model == 'si':\n",
    "        beta = 0.1\n",
    "    else:\n",
    "        beta = 0.5\n",
    "        \n",
    "    for input_path in tqdm(glob(input_dir + '*.pkl')):\n",
    "        output_path = os.path.join(output_dir, os.path.basename(input_path))\n",
    "        prepare_cascade_for_netfill(g,\n",
    "                                    beta=beta, p=float(obs_fraction),\n",
    "                                    input_path=input_path,\n",
    "                                    output_path=output_path)"
   ]
  },
  {
   "cell_type": "code",
   "execution_count": 60,
   "metadata": {
    "scrolled": false
   },
   "outputs": [
    {
     "name": "stderr",
     "output_type": "stream",
     "text": [
      "\r",
      "  0%|          | 0/100 [00:00<?, ?it/s]"
     ]
    },
    {
     "name": "stdout",
     "output_type": "stream",
     "text": [
      "infectious si 0.5 0.1\n"
     ]
    },
    {
     "name": "stderr",
     "output_type": "stream",
     "text": [
      "100%|██████████| 100/100 [00:01<00:00, 93.19it/s]\n"
     ]
    },
    {
     "name": "stdout",
     "output_type": "stream",
     "text": [
      "infectious si 0.5 0.2\n"
     ]
    },
    {
     "name": "stderr",
     "output_type": "stream",
     "text": [
      "100%|██████████| 100/100 [00:03<00:00, 25.70it/s]\n",
      "  2%|▏         | 2/100 [00:00<00:05, 17.98it/s]"
     ]
    },
    {
     "name": "stdout",
     "output_type": "stream",
     "text": [
      "infectious si 0.5 0.3\n"
     ]
    },
    {
     "name": "stderr",
     "output_type": "stream",
     "text": [
      "100%|██████████| 100/100 [00:03<00:00, 30.88it/s]\n",
      "  5%|▌         | 5/100 [00:00<00:02, 43.35it/s]"
     ]
    },
    {
     "name": "stdout",
     "output_type": "stream",
     "text": [
      "infectious si 0.5 0.4\n"
     ]
    },
    {
     "name": "stderr",
     "output_type": "stream",
     "text": [
      "100%|██████████| 100/100 [00:04<00:00, 23.79it/s]\n",
      "  4%|▍         | 4/100 [00:00<00:03, 28.63it/s]"
     ]
    },
    {
     "name": "stdout",
     "output_type": "stream",
     "text": [
      "infectious si 0.5 0.5\n"
     ]
    },
    {
     "name": "stderr",
     "output_type": "stream",
     "text": [
      "100%|██████████| 100/100 [00:03<00:00, 27.41it/s]\n",
      "  0%|          | 0/100 [00:00<?, ?it/s]"
     ]
    },
    {
     "name": "stdout",
     "output_type": "stream",
     "text": [
      "infectious ic 0.5 0.1\n"
     ]
    },
    {
     "name": "stderr",
     "output_type": "stream",
     "text": [
      "100%|██████████| 100/100 [00:00<00:00, 126.94it/s]\n"
     ]
    },
    {
     "name": "stdout",
     "output_type": "stream",
     "text": [
      "infectious ic 0.5 0.2\n"
     ]
    },
    {
     "name": "stderr",
     "output_type": "stream",
     "text": [
      "100%|██████████| 100/100 [00:01<00:00, 60.24it/s]\n",
      " 18%|█▊        | 18/100 [00:00<00:00, 143.21it/s]"
     ]
    },
    {
     "name": "stdout",
     "output_type": "stream",
     "text": [
      "infectious ic 0.5 0.3\n"
     ]
    },
    {
     "name": "stderr",
     "output_type": "stream",
     "text": [
      "100%|██████████| 100/100 [00:00<00:00, 144.52it/s]\n",
      " 46%|████▌     | 46/100 [00:00<00:00, 459.26it/s]"
     ]
    },
    {
     "name": "stdout",
     "output_type": "stream",
     "text": [
      "infectious ic 0.5 0.4\n"
     ]
    },
    {
     "name": "stderr",
     "output_type": "stream",
     "text": [
      "100%|██████████| 100/100 [00:00<00:00, 386.19it/s]\n",
      " 35%|███▌      | 35/100 [00:00<00:00, 280.79it/s]"
     ]
    },
    {
     "name": "stdout",
     "output_type": "stream",
     "text": [
      "infectious ic 0.5 0.5\n"
     ]
    },
    {
     "name": "stderr",
     "output_type": "stream",
     "text": [
      "100%|██████████| 100/100 [00:00<00:00, 336.39it/s]\n",
      "100%|██████████| 100/100 [00:00<00:00, 1331.63it/s]\n"
     ]
    },
    {
     "name": "stdout",
     "output_type": "stream",
     "text": [
      "lattice-1024 si 0.5 0.1\n",
      "lattice-1024 si 0.5 0.2\n"
     ]
    },
    {
     "name": "stderr",
     "output_type": "stream",
     "text": [
      "100%|██████████| 100/100 [00:04<00:00, 22.59it/s]\n",
      "  3%|▎         | 3/100 [00:00<00:03, 29.94it/s]"
     ]
    },
    {
     "name": "stdout",
     "output_type": "stream",
     "text": [
      "lattice-1024 si 0.5 0.3\n"
     ]
    },
    {
     "name": "stderr",
     "output_type": "stream",
     "text": [
      "100%|██████████| 100/100 [00:03<00:00, 25.47it/s]\n",
      "  0%|          | 0/100 [00:00<?, ?it/s]"
     ]
    },
    {
     "name": "stdout",
     "output_type": "stream",
     "text": [
      "lattice-1024 si 0.5 0.4\n"
     ]
    },
    {
     "name": "stderr",
     "output_type": "stream",
     "text": [
      "100%|██████████| 100/100 [00:04<00:00, 24.38it/s]\n",
      "  4%|▍         | 4/100 [00:00<00:02, 39.03it/s]"
     ]
    },
    {
     "name": "stdout",
     "output_type": "stream",
     "text": [
      "lattice-1024 si 0.5 0.5\n"
     ]
    },
    {
     "name": "stderr",
     "output_type": "stream",
     "text": [
      "100%|██████████| 100/100 [00:04<00:00, 24.95it/s]\n",
      "100%|██████████| 100/100 [00:00<00:00, 1087.05it/s]\n"
     ]
    },
    {
     "name": "stdout",
     "output_type": "stream",
     "text": [
      "lattice-1024 ic 0.5 0.1\n",
      "lattice-1024 ic 0.5 0.2\n"
     ]
    },
    {
     "name": "stderr",
     "output_type": "stream",
     "text": [
      "100%|██████████| 100/100 [00:02<00:00, 41.20it/s]\n",
      " 22%|██▏       | 22/100 [00:00<00:00, 217.82it/s]"
     ]
    },
    {
     "name": "stdout",
     "output_type": "stream",
     "text": [
      "lattice-1024 ic 0.5 0.3\n"
     ]
    },
    {
     "name": "stderr",
     "output_type": "stream",
     "text": [
      "100%|██████████| 100/100 [00:00<00:00, 224.11it/s]\n",
      " 18%|█▊        | 18/100 [00:00<00:00, 178.62it/s]"
     ]
    },
    {
     "name": "stdout",
     "output_type": "stream",
     "text": [
      "lattice-1024 ic 0.5 0.4\n"
     ]
    },
    {
     "name": "stderr",
     "output_type": "stream",
     "text": [
      "100%|██████████| 100/100 [00:00<00:00, 145.69it/s]\n",
      " 12%|█▏        | 12/100 [00:00<00:00, 113.04it/s]"
     ]
    },
    {
     "name": "stdout",
     "output_type": "stream",
     "text": [
      "lattice-1024 ic 0.5 0.5\n"
     ]
    },
    {
     "name": "stderr",
     "output_type": "stream",
     "text": [
      "100%|██████████| 100/100 [00:00<00:00, 168.70it/s]\n",
      "100%|██████████| 100/100 [00:00<00:00, 1007.02it/s]\n",
      "  0%|          | 0/100 [00:00<?, ?it/s]"
     ]
    },
    {
     "name": "stdout",
     "output_type": "stream",
     "text": [
      "fb-messages si 0.5 0.1\n",
      "fb-messages si 0.5 0.2\n"
     ]
    },
    {
     "name": "stderr",
     "output_type": "stream",
     "text": [
      "100%|██████████| 100/100 [00:01<00:00, 69.81it/s]\n",
      " 10%|█         | 10/100 [00:00<00:00, 99.68it/s]"
     ]
    },
    {
     "name": "stdout",
     "output_type": "stream",
     "text": [
      "fb-messages si 0.5 0.3\n"
     ]
    },
    {
     "name": "stderr",
     "output_type": "stream",
     "text": [
      "100%|██████████| 100/100 [00:02<00:00, 44.72it/s]\n",
      "  0%|          | 0/100 [00:00<?, ?it/s]"
     ]
    },
    {
     "name": "stdout",
     "output_type": "stream",
     "text": [
      "fb-messages si 0.5 0.4\n"
     ]
    },
    {
     "name": "stderr",
     "output_type": "stream",
     "text": [
      "100%|██████████| 100/100 [00:00<00:00, 110.75it/s]\n",
      "  4%|▍         | 4/100 [00:00<00:04, 20.72it/s]"
     ]
    },
    {
     "name": "stdout",
     "output_type": "stream",
     "text": [
      "fb-messages si 0.5 0.5\n"
     ]
    },
    {
     "name": "stderr",
     "output_type": "stream",
     "text": [
      "100%|██████████| 100/100 [00:01<00:00, 54.50it/s]\n",
      "  6%|▌         | 6/100 [00:00<00:02, 46.59it/s]"
     ]
    },
    {
     "name": "stdout",
     "output_type": "stream",
     "text": [
      "fb-messages ic 0.5 0.1\n"
     ]
    },
    {
     "name": "stderr",
     "output_type": "stream",
     "text": [
      "100%|██████████| 100/100 [00:01<00:00, 64.91it/s]\n",
      "100%|██████████| 100/100 [00:00<00:00, 935.79it/s]\n",
      "  0%|          | 0/100 [00:00<?, ?it/s]"
     ]
    },
    {
     "name": "stdout",
     "output_type": "stream",
     "text": [
      "fb-messages ic 0.5 0.2\n",
      "fb-messages ic 0.5 0.3\n"
     ]
    },
    {
     "name": "stderr",
     "output_type": "stream",
     "text": [
      "100%|██████████| 100/100 [00:00<00:00, 860.18it/s]\n",
      "100%|██████████| 100/100 [00:00<00:00, 827.45it/s]\n",
      "  0%|          | 0/100 [00:00<?, ?it/s]"
     ]
    },
    {
     "name": "stdout",
     "output_type": "stream",
     "text": [
      "fb-messages ic 0.5 0.4\n",
      "fb-messages ic 0.5 0.5\n"
     ]
    },
    {
     "name": "stderr",
     "output_type": "stream",
     "text": [
      "100%|██████████| 100/100 [00:00<00:00, 795.68it/s]\n",
      " 38%|███▊      | 38/100 [00:00<00:00, 217.18it/s]"
     ]
    },
    {
     "name": "stdout",
     "output_type": "stream",
     "text": [
      "email-univ si 0.5 0.1\n"
     ]
    },
    {
     "name": "stderr",
     "output_type": "stream",
     "text": [
      "100%|██████████| 100/100 [00:01<00:00, 81.10it/s]\n",
      "  4%|▍         | 4/100 [00:00<00:04, 22.41it/s]"
     ]
    },
    {
     "name": "stdout",
     "output_type": "stream",
     "text": [
      "email-univ si 0.5 0.2\n"
     ]
    },
    {
     "name": "stderr",
     "output_type": "stream",
     "text": [
      "100%|██████████| 100/100 [00:01<00:00, 59.29it/s]\n",
      "  0%|          | 0/100 [00:00<?, ?it/s]"
     ]
    },
    {
     "name": "stdout",
     "output_type": "stream",
     "text": [
      "email-univ si 0.5 0.3\n"
     ]
    },
    {
     "name": "stderr",
     "output_type": "stream",
     "text": [
      "100%|██████████| 100/100 [00:01<00:00, 63.99it/s]\n",
      "  0%|          | 0/100 [00:00<?, ?it/s]"
     ]
    },
    {
     "name": "stdout",
     "output_type": "stream",
     "text": [
      "email-univ si 0.5 0.4\n"
     ]
    },
    {
     "name": "stderr",
     "output_type": "stream",
     "text": [
      "100%|██████████| 100/100 [00:01<00:00, 65.01it/s]\n",
      "  2%|▏         | 2/100 [00:00<00:08, 11.43it/s]"
     ]
    },
    {
     "name": "stdout",
     "output_type": "stream",
     "text": [
      "email-univ si 0.5 0.5\n"
     ]
    },
    {
     "name": "stderr",
     "output_type": "stream",
     "text": [
      "100%|██████████| 100/100 [00:01<00:00, 64.00it/s]\n",
      "  4%|▍         | 4/100 [00:00<00:02, 39.59it/s]"
     ]
    },
    {
     "name": "stdout",
     "output_type": "stream",
     "text": [
      "email-univ ic 0.5 0.1\n"
     ]
    },
    {
     "name": "stderr",
     "output_type": "stream",
     "text": [
      "100%|██████████| 100/100 [00:01<00:00, 62.07it/s]\n",
      "100%|██████████| 100/100 [00:00<00:00, 999.51it/s]\n",
      "  0%|          | 0/100 [00:00<?, ?it/s]"
     ]
    },
    {
     "name": "stdout",
     "output_type": "stream",
     "text": [
      "email-univ ic 0.5 0.2\n",
      "email-univ ic 0.5 0.3\n"
     ]
    },
    {
     "name": "stderr",
     "output_type": "stream",
     "text": [
      "100%|██████████| 100/100 [00:00<00:00, 902.96it/s]\n",
      "100%|██████████| 100/100 [00:00<00:00, 859.78it/s]\n",
      "  0%|          | 0/100 [00:00<?, ?it/s]"
     ]
    },
    {
     "name": "stdout",
     "output_type": "stream",
     "text": [
      "email-univ ic 0.5 0.4\n",
      "email-univ ic 0.5 0.5\n"
     ]
    },
    {
     "name": "stderr",
     "output_type": "stream",
     "text": [
      "100%|██████████| 100/100 [00:00<00:00, 845.35it/s]\n",
      " 47%|████▋     | 47/100 [00:00<00:00, 254.48it/s]"
     ]
    },
    {
     "name": "stdout",
     "output_type": "stream",
     "text": [
      "grqc si 0.5 0.1\n"
     ]
    },
    {
     "name": "stderr",
     "output_type": "stream",
     "text": [
      "100%|██████████| 100/100 [00:00<00:00, 118.23it/s]\n",
      "  0%|          | 0/100 [00:00<?, ?it/s]"
     ]
    },
    {
     "name": "stdout",
     "output_type": "stream",
     "text": [
      "grqc si 0.5 0.2\n"
     ]
    },
    {
     "name": "stderr",
     "output_type": "stream",
     "text": [
      "100%|██████████| 100/100 [00:09<00:00, 12.66it/s]\n",
      "100%|██████████| 100/100 [00:00<00:00, 533.18it/s]\n"
     ]
    },
    {
     "name": "stdout",
     "output_type": "stream",
     "text": [
      "grqc si 0.5 0.3\n",
      "grqc si 0.5 0.4\n"
     ]
    },
    {
     "name": "stderr",
     "output_type": "stream",
     "text": [
      "100%|██████████| 100/100 [00:00<00:00, 478.43it/s]\n",
      " 40%|████      | 40/100 [00:00<00:00, 392.10it/s]"
     ]
    },
    {
     "name": "stdout",
     "output_type": "stream",
     "text": [
      "grqc si 0.5 0.5\n"
     ]
    },
    {
     "name": "stderr",
     "output_type": "stream",
     "text": [
      "100%|██████████| 100/100 [00:00<00:00, 387.26it/s]\n",
      "100%|██████████| 100/100 [00:00<00:00, 832.09it/s]\n",
      "  0%|          | 0/100 [00:00<?, ?it/s]"
     ]
    },
    {
     "name": "stdout",
     "output_type": "stream",
     "text": [
      "grqc ic 0.5 0.1\n",
      "grqc ic 0.5 0.2\n"
     ]
    },
    {
     "name": "stderr",
     "output_type": "stream",
     "text": [
      "100%|██████████| 100/100 [00:06<00:00, 15.82it/s]\n",
      " 46%|████▌     | 46/100 [00:00<00:00, 458.56it/s]"
     ]
    },
    {
     "name": "stdout",
     "output_type": "stream",
     "text": [
      "grqc ic 0.5 0.3\n"
     ]
    },
    {
     "name": "stderr",
     "output_type": "stream",
     "text": [
      "100%|██████████| 100/100 [00:00<00:00, 455.40it/s]\n",
      " 37%|███▋      | 37/100 [00:00<00:00, 367.23it/s]"
     ]
    },
    {
     "name": "stdout",
     "output_type": "stream",
     "text": [
      "grqc ic 0.5 0.4\n"
     ]
    },
    {
     "name": "stderr",
     "output_type": "stream",
     "text": [
      "100%|██████████| 100/100 [00:00<00:00, 354.24it/s]\n",
      " 26%|██▌       | 26/100 [00:00<00:00, 248.99it/s]"
     ]
    },
    {
     "name": "stdout",
     "output_type": "stream",
     "text": [
      "grqc ic 0.5 0.5\n"
     ]
    },
    {
     "name": "stderr",
     "output_type": "stream",
     "text": [
      "100%|██████████| 100/100 [00:00<00:00, 336.52it/s]\n"
     ]
    }
   ],
   "source": [
    "for gn, cm, of, cf in product(graph_names, cascade_models, obs_fractions, cascade_fracions):\n",
    "    do(gn, cm, of, cf)"
   ]
  },
  {
   "cell_type": "code",
   "execution_count": 61,
   "metadata": {},
   "outputs": [],
   "source": [
    "for graph_name in graph_names:\n",
    "    g = load_graph('data/{}/graph.gt'.format(graph_name))\n",
    "    if use_sparse:\n",
    "        G = adjacency(g)\n",
    "    else:\n",
    "        G = adjacency(g).todense()\n",
    "    savemat('netfill-data/graphs/{}.mat'.format(graph_name),\n",
    "            {'G': G},\n",
    "            oned_as='row',\n",
    "            do_compression=True)    "
   ]
  },
  {
   "cell_type": "code",
   "execution_count": 20,
   "metadata": {},
   "outputs": [],
   "source": []
  }
 ],
 "metadata": {
  "kernelspec": {
   "display_name": "Python 3",
   "language": "python",
   "name": "python3"
  },
  "language_info": {
   "codemirror_mode": {
    "name": "ipython",
    "version": 3
   },
   "file_extension": ".py",
   "mimetype": "text/x-python",
   "name": "python",
   "nbconvert_exporter": "python",
   "pygments_lexer": "ipython3",
   "version": "3.5.2"
  }
 },
 "nbformat": 4,
 "nbformat_minor": 2
}
